{
 "cells": [
  {
   "cell_type": "code",
   "execution_count": 133,
   "metadata": {
    "collapsed": true
   },
   "outputs": [],
   "source": [
    "from textblob import TextBlob\n",
    "import csv\n",
    "import numpy as np\n",
    "import pandas as pd\n",
    "import statsmodels.api as sm\n",
    "import matplotlib.pyplot as plt\n",
    "%matplotlib inline"
   ]
  },
  {
   "cell_type": "code",
   "execution_count": 2,
   "metadata": {
    "collapsed": true
   },
   "outputs": [],
   "source": [
    "with open('csvdata.csv', 'r', encoding=\"utf8\") as f:\n",
    "  reader = csv.reader(f)\n",
    "  datalist = tuple(reader)"
   ]
  },
  {
   "cell_type": "raw",
   "metadata": {},
   "source": [
    "print(datalist[1])"
   ]
  },
  {
   "cell_type": "code",
   "execution_count": 4,
   "metadata": {
    "collapsed": true
   },
   "outputs": [],
   "source": [
    "sophchat = [msg for msg in datalist if (\"USER0@facebook.com\" in msg[0] and \"USER1@facebook.com\" in msg[0])]"
   ]
  },
  {
   "cell_type": "code",
   "execution_count": 21,
   "metadata": {},
   "outputs": [
    {
     "name": "stdout",
     "output_type": "stream",
     "text": [
      "2015-04-30 03:48\n"
     ]
    }
   ],
   "source": [
    "chat = [TextBlob(msg[3]) for msg in sophchat]\n",
    "dates = [msg[2][:10] for msg in sophchat]\n",
    "times = [msg[2][11:16] for msg in sophchat]\n",
    "print(dates[5], times[5])"
   ]
  },
  {
   "cell_type": "code",
   "execution_count": 176,
   "metadata": {
    "collapsed": true
   },
   "outputs": [],
   "source": [
    "chatdf = []\n",
    "for i in range(len(chat)):\n",
    "    phrase = chat[i]\n",
    "    chatdf.extend([{'subjectivity' : phrase.sentiment.subjectivity\n",
    "                    , 'polarity' : phrase.sentiment.polarity\n",
    "                    , 'date' : dates[i], 'time' : times[i]}])"
   ]
  },
  {
   "cell_type": "code",
   "execution_count": 177,
   "metadata": {},
   "outputs": [
    {
     "name": "stdout",
     "output_type": "stream",
     "text": [
      "         date  polarity  subjectivity   time\n",
      "0  2015-04-29      0.00          0.00  18:06\n",
      "1  2015-04-29      0.60          1.00  18:06\n",
      "2  2015-04-29      0.25          0.25  23:04\n"
     ]
    },
    {
     "data": {
      "text/html": [
       "<div>\n",
       "<table border=\"1\" class=\"dataframe\">\n",
       "  <thead>\n",
       "    <tr style=\"text-align: right;\">\n",
       "      <th></th>\n",
       "      <th>polarity</th>\n",
       "      <th>subjectivity</th>\n",
       "    </tr>\n",
       "  </thead>\n",
       "  <tbody>\n",
       "    <tr>\n",
       "      <th>count</th>\n",
       "      <td>16954.000000</td>\n",
       "      <td>16954.000000</td>\n",
       "    </tr>\n",
       "    <tr>\n",
       "      <th>mean</th>\n",
       "      <td>0.182520</td>\n",
       "      <td>0.424653</td>\n",
       "    </tr>\n",
       "    <tr>\n",
       "      <th>std</th>\n",
       "      <td>0.317105</td>\n",
       "      <td>0.317170</td>\n",
       "    </tr>\n",
       "    <tr>\n",
       "      <th>min</th>\n",
       "      <td>-1.000000</td>\n",
       "      <td>0.000000</td>\n",
       "    </tr>\n",
       "    <tr>\n",
       "      <th>25%</th>\n",
       "      <td>0.000000</td>\n",
       "      <td>0.000000</td>\n",
       "    </tr>\n",
       "    <tr>\n",
       "      <th>50%</th>\n",
       "      <td>0.146771</td>\n",
       "      <td>0.483333</td>\n",
       "    </tr>\n",
       "    <tr>\n",
       "      <th>75%</th>\n",
       "      <td>0.366667</td>\n",
       "      <td>0.666667</td>\n",
       "    </tr>\n",
       "    <tr>\n",
       "      <th>max</th>\n",
       "      <td>1.000000</td>\n",
       "      <td>1.000000</td>\n",
       "    </tr>\n",
       "  </tbody>\n",
       "</table>\n",
       "</div>"
      ],
      "text/plain": [
       "           polarity  subjectivity\n",
       "count  16954.000000  16954.000000\n",
       "mean       0.182520      0.424653\n",
       "std        0.317105      0.317170\n",
       "min       -1.000000      0.000000\n",
       "25%        0.000000      0.000000\n",
       "50%        0.146771      0.483333\n",
       "75%        0.366667      0.666667\n",
       "max        1.000000      1.000000"
      ]
     },
     "execution_count": 177,
     "metadata": {},
     "output_type": "execute_result"
    }
   ],
   "source": [
    "chatdf = pd.DataFrame(chatdf)\n",
    "print(chatdf.head(3))\n",
    "chatdf.describe()"
   ]
  },
  {
   "cell_type": "code",
   "execution_count": 199,
   "metadata": {},
   "outputs": [
    {
     "name": "stdout",
     "output_type": "stream",
     "text": [
      "2015-04-29\n"
     ]
    }
   ],
   "source": [
    "#Group data into days\n",
    "n = -1\n",
    "chatdfGroupedByDay = []\n",
    "tempDate = chatdf['date'][0]#[0:7] #comment to change to days\n",
    "print(tempDate)\n",
    "for i in range(len(chatdf.index)):\n",
    "    if tempDate == chatdf['date'][i]:#[0:7]:\n",
    "        n+= 1\n",
    "    else:\n",
    "        sentimentMean = round(chatdf['subjectivity'][i-n:i-1].mean(), 3)\n",
    "        polarityMean = round(chatdf['polarity'][i-n:i-1].mean(), 3)\n",
    "        chatdfGroupedByDay.extend([{'subjectivity' : 0 if np.isnan(sentimentMean) else sentimentMean*5000\n",
    "                                    , 'polarity' : 0 if np.isnan(polarityMean) else polarityMean*5000\n",
    "                                    , 'date' : tempDate, 'entries' : n}])\n",
    "        tempDate = chatdf['date'][i]#[0:7]\n",
    "        n=1"
   ]
  },
  {
   "cell_type": "code",
   "execution_count": 200,
   "metadata": {},
   "outputs": [
    {
     "data": {
      "text/html": [
       "<div>\n",
       "<table border=\"1\" class=\"dataframe\">\n",
       "  <thead>\n",
       "    <tr style=\"text-align: right;\">\n",
       "      <th></th>\n",
       "      <th>entries</th>\n",
       "      <th>polarity</th>\n",
       "      <th>subjectivity</th>\n",
       "    </tr>\n",
       "    <tr>\n",
       "      <th>date</th>\n",
       "      <th></th>\n",
       "      <th></th>\n",
       "      <th></th>\n",
       "    </tr>\n",
       "  </thead>\n",
       "  <tbody>\n",
       "    <tr>\n",
       "      <th>2015-04-29</th>\n",
       "      <td>2</td>\n",
       "      <td>3000.0</td>\n",
       "      <td>5000.0</td>\n",
       "    </tr>\n",
       "    <tr>\n",
       "      <th>2015-04-30</th>\n",
       "      <td>117</td>\n",
       "      <td>325.0</td>\n",
       "      <td>1700.0</td>\n",
       "    </tr>\n",
       "    <tr>\n",
       "      <th>2015-05-01</th>\n",
       "      <td>8</td>\n",
       "      <td>215.0</td>\n",
       "      <td>500.0</td>\n",
       "    </tr>\n",
       "  </tbody>\n",
       "</table>\n",
       "</div>"
      ],
      "text/plain": [
       "            entries  polarity  subjectivity\n",
       "date                                       \n",
       "2015-04-29        2    3000.0        5000.0\n",
       "2015-04-30      117     325.0        1700.0\n",
       "2015-05-01        8     215.0         500.0"
      ]
     },
     "execution_count": 200,
     "metadata": {},
     "output_type": "execute_result"
    }
   ],
   "source": [
    "chatdfGroupedByDay = pd.DataFrame(chatdfGroupedByDay)\n",
    "chatdfGroupedByDay.index = pd.to_datetime(chatdfGroupedByDay['date'])\n",
    "del chatdfGroupedByDay['date']\n",
    "chatdfGroupedByDay.head(3)"
   ]
  },
  {
   "cell_type": "code",
   "execution_count": 201,
   "metadata": {},
   "outputs": [
    {
     "data": {
      "text/html": [
       "<div>\n",
       "<table border=\"1\" class=\"dataframe\">\n",
       "  <thead>\n",
       "    <tr style=\"text-align: right;\">\n",
       "      <th></th>\n",
       "      <th>polarity</th>\n",
       "      <th>entries</th>\n",
       "    </tr>\n",
       "    <tr>\n",
       "      <th>date</th>\n",
       "      <th></th>\n",
       "      <th></th>\n",
       "    </tr>\n",
       "  </thead>\n",
       "  <tbody>\n",
       "    <tr>\n",
       "      <th>2015-04-01</th>\n",
       "      <td>1662.500000</td>\n",
       "      <td>119.0</td>\n",
       "    </tr>\n",
       "    <tr>\n",
       "      <th>2015-05-01</th>\n",
       "      <td>741.176471</td>\n",
       "      <td>461.0</td>\n",
       "    </tr>\n",
       "    <tr>\n",
       "      <th>2015-06-01</th>\n",
       "      <td>1094.687500</td>\n",
       "      <td>856.0</td>\n",
       "    </tr>\n",
       "    <tr>\n",
       "      <th>2015-07-01</th>\n",
       "      <td>946.153846</td>\n",
       "      <td>1818.0</td>\n",
       "    </tr>\n",
       "    <tr>\n",
       "      <th>2015-08-01</th>\n",
       "      <td>1045.000000</td>\n",
       "      <td>68.0</td>\n",
       "    </tr>\n",
       "  </tbody>\n",
       "</table>\n",
       "</div>"
      ],
      "text/plain": [
       "               polarity  entries\n",
       "date                            \n",
       "2015-04-01  1662.500000    119.0\n",
       "2015-05-01   741.176471    461.0\n",
       "2015-06-01  1094.687500    856.0\n",
       "2015-07-01   946.153846   1818.0\n",
       "2015-08-01  1045.000000     68.0"
      ]
     },
     "execution_count": 201,
     "metadata": {},
     "output_type": "execute_result"
    }
   ],
   "source": [
    "del chatdfGroupedByDay['subjectivity']\n",
    "chatdfGroupedByMonth = chatdfGroupedByDay.resample('MS').agg({'polarity': np.mean, 'entries': np.sum})\n",
    "chatdfGroupedByMonth.head(5)"
   ]
  },
  {
   "cell_type": "code",
   "execution_count": 196,
   "metadata": {
    "scrolled": true
   },
   "outputs": [
    {
     "data": {
      "text/plain": [
       "<matplotlib.axes._subplots.AxesSubplot at 0x1c159ff5fd0>"
      ]
     },
     "execution_count": 196,
     "metadata": {},
     "output_type": "execute_result"
    },
    {
     "data": {
      "image/png": "[encoded data removed]",
      "text/plain": [
       "<matplotlib.figure.Figure at 0x1c159e65b00>"
      ]
     },
     "metadata": {},
     "output_type": "display_data"
    }
   ],
   "source": [
    "chatdfGroupedByMonth.plot()"
   ]
  },
  {
   "cell_type": "code",
   "execution_count": null,
   "metadata": {
    "collapsed": true
   },
   "outputs": [],
   "source": []
  },
  {
   "cell_type": "code",
   "execution_count": null,
   "metadata": {
    "collapsed": true
   },
   "outputs": [],
   "source": []
  }
 ],
 "metadata": {
  "anaconda-cloud": {},
  "kernelspec": {
   "display_name": "Python [conda root]",
   "language": "python",
   "name": "conda-root-py"
  },
  "language_info": {
   "codemirror_mode": {
    "name": "ipython",
    "version": 3
   },
   "file_extension": ".py",
   "mimetype": "text/x-python",
   "name": "python",
   "nbconvert_exporter": "python",
   "pygments_lexer": "ipython3",
   "version": "3.5.2"
  }
 },
 "nbformat": 4,
 "nbformat_minor": 1
}
