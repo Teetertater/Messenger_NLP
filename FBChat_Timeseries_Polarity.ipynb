{
 "cells": [
  {
   "cell_type": "code",
   "execution_count": 39,
   "metadata": {
    "collapsed": true
   },
   "outputs": [],
   "source": [
    "from textblob import TextBlob\n",
    "import csv\n",
    "import numpy as np\n",
    "import pandas as pd\n",
    "import statsmodels.api as sm\n",
    "import matplotlib.pyplot as plt\n",
    "%matplotlib inline"
   ]
  },
  {
   "cell_type": "code",
   "execution_count": 40,
   "metadata": {
    "collapsed": true
   },
   "outputs": [],
   "source": [
    "with open('csvdata.csv', 'r', encoding=\"utf8\") as f: #Read from a csv file, parsed with all fb messages from all conversations\n",
    "  reader = csv.reader(f)\n",
    "  datalist = tuple(reader)"
   ]
  },
  {
   "cell_type": "code",
   "execution_count": 42,
   "metadata": {
    "collapsed": true
   },
   "outputs": [],
   "source": [
    "#Separate a single conversation between myself and sample user\n",
    "sophchat = [msg for msg in datalist if (\"USER-S@facebook.com\" in msg[0] and \"USER-Y@facebook.com\" in msg[0])]"
   ]
  },
  {
   "cell_type": "code",
   "execution_count": 119,
   "metadata": {},
   "outputs": [
    {
     "name": "stdout",
     "output_type": "stream",
     "text": [
      "2015-04-30 03:48 S\n"
     ]
    }
   ],
   "source": [
    "chat = [TextBlob(msg[3]) for msg in sophchat]\n",
    "dates = [msg[2][:10] for msg in sophchat]\n",
    "times = [msg[2][11:16] for msg in sophchat]\n",
    "sender = ['S' if msg[1][:1] == 'S' or msg[1] == 'USER-S@facebook.com' else 'Y' for msg in sophchat]\n",
    "#Facebook used to store the sender information as the name, now it is the user ID's. We want to capture both\n",
    "print(dates[5], times[5], sender [5])"
   ]
  },
  {
   "cell_type": "code",
   "execution_count": 120,
   "metadata": {
    "collapsed": true
   },
   "outputs": [],
   "source": [
    "chatdf = [] #Extract sentiments, parse dates, and times from facebook data\n",
    "for i in range(len(chat)):\n",
    "    phrase = chat[i]\n",
    "    chatdf.extend([{'subjectivity' : phrase.sentiment.subjectivity\n",
    "                    , 'polarity' : phrase.sentiment.polarity\n",
    "                    , 'date' : dates[i], 'time' : times[i]\n",
    "                    ,'sender' : sender[i]\n",
    "                   ,'msg' : phrase}])"
   ]
  },
  {
   "cell_type": "code",
   "execution_count": 121,
   "metadata": {},
   "outputs": [
    {
     "data": {
      "text/plain": [
       "'S'"
      ]
     },
     "execution_count": 121,
     "metadata": {},
     "output_type": "execute_result"
    }
   ],
   "source": [
    "schatdf = [msg for msg in chatdf if (msg['sender'] == 'S')] #this is the dataset containing all the messages sent by 'S'\n",
    "ychatdf = [msg for msg in chatdf if (msg['sender'] == 'Y')] #this is the dataset containing all the messages sent by 'Y'\n",
    "minPols = [msg for msg in chatdf if (msg['polarity'] == -1.0)]\n",
    "maxPols = [msg for msg in chatdf if (msg['polarity'] == 1.0)]\n",
    "schatdf[0]['sender']"
   ]
  },
  {
   "cell_type": "code",
   "execution_count": 122,
   "metadata": {},
   "outputs": [
    {
     "name": "stdout",
     "output_type": "stream",
     "text": [
      "         date  polarity sender  subjectivity   time\n",
      "0  2015-04-29      0.00      Y          0.00  18:06\n",
      "1  2015-04-29      0.60      Y          1.00  18:06\n",
      "2  2015-04-29      0.25      S          0.25  23:04\n"
     ]
    },
    {
     "data": {
      "text/html": [
       "<div>\n",
       "<table border=\"1\" class=\"dataframe\">\n",
       "  <thead>\n",
       "    <tr style=\"text-align: right;\">\n",
       "      <th></th>\n",
       "      <th>polarity</th>\n",
       "      <th>subjectivity</th>\n",
       "    </tr>\n",
       "  </thead>\n",
       "  <tbody>\n",
       "    <tr>\n",
       "      <th>count</th>\n",
       "      <td>16954.000000</td>\n",
       "      <td>16954.000000</td>\n",
       "    </tr>\n",
       "    <tr>\n",
       "      <th>mean</th>\n",
       "      <td>0.182520</td>\n",
       "      <td>0.424653</td>\n",
       "    </tr>\n",
       "    <tr>\n",
       "      <th>std</th>\n",
       "      <td>0.317105</td>\n",
       "      <td>0.317170</td>\n",
       "    </tr>\n",
       "    <tr>\n",
       "      <th>min</th>\n",
       "      <td>-1.000000</td>\n",
       "      <td>0.000000</td>\n",
       "    </tr>\n",
       "    <tr>\n",
       "      <th>25%</th>\n",
       "      <td>0.000000</td>\n",
       "      <td>0.000000</td>\n",
       "    </tr>\n",
       "    <tr>\n",
       "      <th>50%</th>\n",
       "      <td>0.146771</td>\n",
       "      <td>0.483333</td>\n",
       "    </tr>\n",
       "    <tr>\n",
       "      <th>75%</th>\n",
       "      <td>0.366667</td>\n",
       "      <td>0.666667</td>\n",
       "    </tr>\n",
       "    <tr>\n",
       "      <th>max</th>\n",
       "      <td>1.000000</td>\n",
       "      <td>1.000000</td>\n",
       "    </tr>\n",
       "  </tbody>\n",
       "</table>\n",
       "</div>"
      ],
      "text/plain": [
       "           polarity  subjectivity\n",
       "count  16954.000000  16954.000000\n",
       "mean       0.182520      0.424653\n",
       "std        0.317105      0.317170\n",
       "min       -1.000000      0.000000\n",
       "25%        0.000000      0.000000\n",
       "50%        0.146771      0.483333\n",
       "75%        0.366667      0.666667\n",
       "max        1.000000      1.000000"
      ]
     },
     "execution_count": 122,
     "metadata": {},
     "output_type": "execute_result"
    }
   ],
   "source": [
    "chatdf = pd.DataFrame(chatdf) #Converting all datasets to dataframe\n",
    "schatdf = pd.DataFrame(schatdf)\n",
    "ychatdf = pd.DataFrame(ychatdf)\n",
    "del chatdf['msg'] #The message text is no longer needed\n",
    "del schatdf['msg']\n",
    "del ychatdf['msg']\n",
    "print(chatdf.head(3))\n",
    "chatdf.describe()"
   ]
  },
  {
   "cell_type": "code",
   "execution_count": 123,
   "metadata": {
    "collapsed": true
   },
   "outputs": [],
   "source": [
    "#Function to iterate over all messages in the same day and average the values. \n",
    "#Perhaps there's a simpler way to do this I haven't found\n",
    "def groupByDay(chat_df):\n",
    "    n = -1\n",
    "    chatdfGroupedByDay = []\n",
    "    tempDate = chat_df['date'][0]\n",
    "    print(tempDate)\n",
    "    for i in range(len(chat_df.index)):\n",
    "        if tempDate == chat_df['date'][i]:\n",
    "            n+= 1\n",
    "        else:\n",
    "            sentimentMean = round(chat_df['subjectivity'][i-n:i-1].mean(), 3)\n",
    "            polarityMean = round(chat_df['polarity'][i-n:i-1].mean(), 3)\n",
    "            chatdfGroupedByDay.extend([{'subjectivity' : 0 if np.isnan(sentimentMean) else sentimentMean*5000\n",
    "                                    , 'polarity' : 0 if np.isnan(polarityMean) else polarityMean*5000\n",
    "                                    , 'date' : tempDate, 'entries' : n}])\n",
    "            tempDate = chat_df['date'][i]\n",
    "            n=1\n",
    "    return chatdfGroupedByDay"
   ]
  },
  {
   "cell_type": "code",
   "execution_count": 124,
   "metadata": {},
   "outputs": [
    {
     "name": "stdout",
     "output_type": "stream",
     "text": [
      "2015-04-29\n",
      "2015-04-29\n",
      "2015-04-29\n"
     ]
    },
    {
     "data": {
      "text/html": [
       "<div>\n",
       "<table border=\"1\" class=\"dataframe\">\n",
       "  <thead>\n",
       "    <tr style=\"text-align: right;\">\n",
       "      <th></th>\n",
       "      <th>entries</th>\n",
       "      <th>polarity</th>\n",
       "      <th>subjectivity</th>\n",
       "    </tr>\n",
       "    <tr>\n",
       "      <th>date</th>\n",
       "      <th></th>\n",
       "      <th></th>\n",
       "      <th></th>\n",
       "    </tr>\n",
       "  </thead>\n",
       "  <tbody>\n",
       "    <tr>\n",
       "      <th>2015-04-29</th>\n",
       "      <td>2</td>\n",
       "      <td>3000.0</td>\n",
       "      <td>5000.0</td>\n",
       "    </tr>\n",
       "    <tr>\n",
       "      <th>2015-04-30</th>\n",
       "      <td>117</td>\n",
       "      <td>325.0</td>\n",
       "      <td>1700.0</td>\n",
       "    </tr>\n",
       "    <tr>\n",
       "      <th>2015-05-01</th>\n",
       "      <td>8</td>\n",
       "      <td>215.0</td>\n",
       "      <td>500.0</td>\n",
       "    </tr>\n",
       "  </tbody>\n",
       "</table>\n",
       "</div>"
      ],
      "text/plain": [
       "            entries  polarity  subjectivity\n",
       "date                                       \n",
       "2015-04-29        2    3000.0        5000.0\n",
       "2015-04-30      117     325.0        1700.0\n",
       "2015-05-01        8     215.0         500.0"
      ]
     },
     "execution_count": 124,
     "metadata": {},
     "output_type": "execute_result"
    }
   ],
   "source": [
    "chatdfGroupedByDay = pd.DataFrame(groupByDay(chatdf))#Group the chats by day\n",
    "schatdfGroupedByDay = pd.DataFrame(groupByDay(schatdf))\n",
    "ychatdfGroupedByDay = pd.DataFrame(groupByDay(ychatdf))\n",
    "chatdfGroupedByDay.index = pd.to_datetime(chatdfGroupedByDay['date']) #Convert to convenient indexable pandas datetime format\n",
    "schatdfGroupedByDay.index = pd.to_datetime(schatdfGroupedByDay['date']) #for time series analysis\n",
    "ychatdfGroupedByDay.index = pd.to_datetime(ychatdfGroupedByDay['date'])\n",
    "del chatdfGroupedByDay['date'] #We don't need the date column anymore since it's the index now\n",
    "del schatdfGroupedByDay['date']\n",
    "del ychatdfGroupedByDay['date']\n",
    "chatdfGroupedByDay.head(3) #Display sample timeseries index"
   ]
  },
  {
   "cell_type": "code",
   "execution_count": 125,
   "metadata": {},
   "outputs": [
    {
     "data": {
      "text/html": [
       "<div>\n",
       "<table border=\"1\" class=\"dataframe\">\n",
       "  <thead>\n",
       "    <tr style=\"text-align: right;\">\n",
       "      <th></th>\n",
       "      <th>entries</th>\n",
       "      <th>polarity</th>\n",
       "    </tr>\n",
       "    <tr>\n",
       "      <th>date</th>\n",
       "      <th></th>\n",
       "      <th></th>\n",
       "    </tr>\n",
       "  </thead>\n",
       "  <tbody>\n",
       "    <tr>\n",
       "      <th>2015-04-01</th>\n",
       "      <td>119.0</td>\n",
       "      <td>1662.500000</td>\n",
       "    </tr>\n",
       "    <tr>\n",
       "      <th>2015-05-01</th>\n",
       "      <td>461.0</td>\n",
       "      <td>741.176471</td>\n",
       "    </tr>\n",
       "    <tr>\n",
       "      <th>2015-06-01</th>\n",
       "      <td>856.0</td>\n",
       "      <td>1094.687500</td>\n",
       "    </tr>\n",
       "    <tr>\n",
       "      <th>2015-07-01</th>\n",
       "      <td>1818.0</td>\n",
       "      <td>946.153846</td>\n",
       "    </tr>\n",
       "    <tr>\n",
       "      <th>2015-08-01</th>\n",
       "      <td>68.0</td>\n",
       "      <td>1045.000000</td>\n",
       "    </tr>\n",
       "  </tbody>\n",
       "</table>\n",
       "</div>"
      ],
      "text/plain": [
       "            entries     polarity\n",
       "date                            \n",
       "2015-04-01    119.0  1662.500000\n",
       "2015-05-01    461.0   741.176471\n",
       "2015-06-01    856.0  1094.687500\n",
       "2015-07-01   1818.0   946.153846\n",
       "2015-08-01     68.0  1045.000000"
      ]
     },
     "execution_count": 125,
     "metadata": {},
     "output_type": "execute_result"
    }
   ],
   "source": [
    "del chatdfGroupedByDay['subjectivity'] #I am not interested in the subjectivity parameter\n",
    "del schatdfGroupedByDay['subjectivity']\n",
    "del ychatdfGroupedByDay['subjectivity']\n",
    "chatdfGroupedByMonth = chatdfGroupedByDay.resample('MS').agg({'polarity': np.mean, 'entries': np.sum}) #resample into months\n",
    "schatdfGroupedByMonth = schatdfGroupedByDay.resample('MS').agg({'polarity': np.mean, 'entries': np.sum})\n",
    "ychatdfGroupedByMonth = ychatdfGroupedByDay.resample('MS').agg({'polarity': np.mean, 'entries': np.sum})\n",
    "chatdfGroupedByMonth.head(5) #Example"
   ]
  },
  {
   "cell_type": "code",
   "execution_count": 134,
   "metadata": {
    "scrolled": true
   },
   "outputs": [
    {
     "data": {
      "text/plain": [
       "<matplotlib.axes._subplots.AxesSubplot at 0x20c4407cb70>"
      ]
     },
     "execution_count": 134,
     "metadata": {},
     "output_type": "execute_result"
    },
    {
     "data": {
      "image/png": "[encoded data removed]",
      "text/plain": [
       "<matplotlib.figure.Figure at 0x20c3e805550>"
      ]
     },
     "metadata": {},
     "output_type": "display_data"
    }
   ],
   "source": [
    "chatdfGroupedByMonth.plot() #Entries is the total number of messages exchanged, polarity is scaled [-5000,5000]"
   ]
  },
  {
   "cell_type": "code",
   "execution_count": 127,
   "metadata": {},
   "outputs": [
    {
     "data": {
      "text/plain": [
       "<matplotlib.axes._subplots.AxesSubplot at 0x20c4422eac8>"
      ]
     },
     "execution_count": 127,
     "metadata": {},
     "output_type": "execute_result"
    },
    {
     "data": {
      "image/png": "[encoded data removed]",
      "text/plain": [
       "<matplotlib.figure.Figure at 0x20c44236f60>"
      ]
     },
     "metadata": {},
     "output_type": "display_data"
    }
   ],
   "source": [
    "ax = ychatdfGroupedByMonth.plot() #Orange/Blue = Y; Red/Green = S\n",
    "schatdfGroupedByMonth.plot(ax=ax)"
   ]
  },
  {
   "cell_type": "code",
   "execution_count": 133,
   "metadata": {},
   "outputs": [
    {
     "name": "stdout",
     "output_type": "stream",
     "text": [
      "~~~~~~Y's messages with lowest polarity~~~~~~~~~~~~~\n",
      "Yeah she's batshit insane\n",
      "every photo you send of him is really awful and I delete it from my gallery immediately\n",
      "I do I do. But I'm not that evil, dw\n",
      "LOOL man you're gonna squeeze everything out of him! You're like a terrible drug xD\n",
      "Loool I'm laughing an awful lot\n",
      "~~~~~~Y's messages with highest polarity~~~~~~~~~~~~~\n",
      "What lol that's the easiest part for me!\n",
      "Mm well that'l be over soon too :D\n",
      "Awesome xD\n",
      "LOL yess do it! Juicy gossip\n",
      "Yes, isn't it wonderful? xD\n",
      "~~~~~~S' messages with lowest polarity~~~~~~~~~~~~~\n",
      "Horrible woman\n",
      "Uhm because I always tell him that his hair is awful\n",
      "Uhm it's just an awful hairstyle didn't you see\n",
      "That sounds horrible\n",
      "That sounds awful xD\n",
      "~~~~~~S' messages with highest polarity~~~~~~~~~~~~~\n",
      "Lool that Sounds Awesome\n",
      "Naah but my dad is on fb he would be happy!\n",
      "Perfect\n",
      "Tried to look awesome and stuff because he should be regretting\n",
      "Lool that song fits perfectly\n"
     ]
    },
    {
     "data": {
      "text/plain": [
       "[None, None, None, None, None]"
      ]
     },
     "execution_count": 133,
     "metadata": {},
     "output_type": "execute_result"
    }
   ],
   "source": [
    "#This displays the most polarized messages in our exchange\n",
    "print(\"~~~~~~Y's messages with lowest polarity~~~~~~~~~~~~~\")\n",
    "[print(i['msg']) for i in minPols[:15] if i['sender'] == 'Y'] #The index values here are hardcoded because I don't know the order\n",
    "print(\"~~~~~~Y's messages with highest polarity~~~~~~~~~~~~~\")#in which our entries occur in the list; they are not sorted by sender\n",
    "[print(i['msg']) for i in maxPols[:8] if i['sender'] == 'Y']\n",
    "print(\"~~~~~~S' messages with lowest polarity~~~~~~~~~~~~~\")\n",
    "[print(i['msg']) for i in minPols[:9] if i['sender'] == 'S']\n",
    "print(\"~~~~~~S' messages with highest polarity~~~~~~~~~~~~~\")\n",
    "[print(i['msg']) for i in maxPols[:21] if i['sender'] == 'S']"
   ]
  },
  {
   "cell_type": "code",
   "execution_count": null,
   "metadata": {
    "collapsed": true
   },
   "outputs": [],
   "source": []
  }
 ],
 "metadata": {
  "anaconda-cloud": {},
  "kernelspec": {
   "display_name": "Python [conda root]",
   "language": "python",
   "name": "conda-root-py"
  },
  "language_info": {
   "codemirror_mode": {
    "name": "ipython",
    "version": 3
   },
   "file_extension": ".py",
   "mimetype": "text/x-python",
   "name": "python",
   "nbconvert_exporter": "python",
   "pygments_lexer": "ipython3",
   "version": "3.5.2"
  }
 },
 "nbformat": 4,
 "nbformat_minor": 1
}
